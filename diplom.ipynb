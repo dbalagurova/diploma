{
 "cells": [
  {
   "cell_type": "code",
   "execution_count": 4,
   "id": "e24b5210",
   "metadata": {
    "slideshow": {
     "slide_type": "fragment"
    }
   },
   "outputs": [],
   "source": [
    "import pandas as pd\n",
    "import seaborn as sns\n",
    "import matplotlib.pyplot as plt\n",
    "from sklearn.linear_model import LinearRegression, Ridge\n",
    "from sklearn.metrics import mean_absolute_error, mean_squared_error,mean_absolute_percentage_error\n",
    "from sklearn.model_selection import train_test_split\n",
    "from catboost import CatBoostRegressor\n",
    "import catboost as cbt\n",
    "from catboost import Pool, cv\n",
    "import lightgbm as lgb\n",
    "from lightgbm import LGBMRegressor\n",
    "import numpy as np\n",
    "from sklearn.model_selection import GridSearchCV\n",
    "import xgboost as xgb\n",
    "from xgboost.sklearn import XGBRegressor"
   ]
  },
  {
   "cell_type": "code",
   "execution_count": null,
   "id": "5d4060ce",
   "metadata": {},
   "outputs": [],
   "source": [
    "df = pd.read_csv('bundles_858.csv', sep = ',').drop_duplicates()\n",
    "\n",
    "null = df['name'].isnull()\n",
    "# удаление строк с пустыми значениями\n",
    "df = df[~null]\n",
    "df"
   ]
  },
  {
   "cell_type": "code",
   "execution_count": null,
   "id": "087a9fd6",
   "metadata": {},
   "outputs": [],
   "source": [
    "pd.options.display.max_columns = None\n",
    "zero_cols = df.columns[(df == 0).all()]\n",
    "\n",
    "# удаляем найденные столбцы\n",
    "df.drop(zero_cols, axis=1, inplace=True)\n",
    "\n",
    "df.dropna(subset=['salary_from_rub', 'salary_to_rub'], how='all', inplace=True)\n",
    "df.head()"
   ]
  },
  {
   "cell_type": "code",
   "execution_count": 7,
   "id": "44847e34",
   "metadata": {},
   "outputs": [],
   "source": [
    "#df = df[(df['salary_from_rub'] <= 300000) & (df['salary_from_rub'] >= 14000)]\n",
    "#df = df[(df['salary_to_rub'] <= 300000) & (df['salary_to_rub'] >= 14000)]\n",
    "#\n",
    "#df.head()"
   ]
  },
  {
   "cell_type": "code",
   "execution_count": null,
   "id": "b03f7d6c",
   "metadata": {},
   "outputs": [],
   "source": [
    "df['salary'] = (df['salary_from_rub'] + df['salary_to_rub']) / 2\n",
    "df.loc[df['salary'].isnull(), 'salary'] = df.loc[df['salary'].isnull(), ['salary_from_rub', 'salary_to_rub']].apply(lambda x: x.dropna().iloc[0], axis=1)\n",
    "df.head()"
   ]
  },
  {
   "cell_type": "code",
   "execution_count": null,
   "id": "583c0adc",
   "metadata": {},
   "outputs": [],
   "source": [
    "df['salary'].describe().astype(int)"
   ]
  },
  {
   "cell_type": "code",
   "execution_count": null,
   "id": "107f65a4",
   "metadata": {
    "scrolled": true
   },
   "outputs": [],
   "source": [
    "plt.figure(figsize=(6, 8))\n",
    "y = df['salary']\n",
    "sns.boxplot(y=y, orient='v')\n",
    "\n",
    "plt.title('Распределение зарплат', pad=20)\n",
    "plt.ylim(0, 300000)\n",
    "plt.ylabel('Зарплата, руб.')\n",
    "\n",
    "print(\"Медианная зарплата:\", df['salary'].quantile(0.5))\n",
    "\n",
    "plt.show()"
   ]
  },
  {
   "cell_type": "code",
   "execution_count": null,
   "id": "3ae7eaad",
   "metadata": {
    "scrolled": true
   },
   "outputs": [],
   "source": [
    "q_min = df.salary.quantile(0.03)\n",
    "q_max = df.salary.quantile(0.97)\n",
    "df = df[(df['salary'] > q_min) & (df['salary'] < q_max)]\n",
    "\n",
    "df.salary.describe().round().astype('Int64')"
   ]
  },
  {
   "cell_type": "code",
   "execution_count": null,
   "id": "c8cbbba2",
   "metadata": {},
   "outputs": [],
   "source": [
    "plt.figure(figsize=(6, 8))\n",
    "y = df['salary']\n",
    "sns.boxplot(y=y, orient='v')\n",
    "\n",
    "plt.title('Распределение зарплат', pad=20)\n",
    "plt.ylim(None, 80000)\n",
    "plt.ylabel('Зарплата, руб.')\n",
    "\n",
    "print(\"Медианная зарплата:\", df['salary'].quantile(0.5))\n",
    "\n",
    "plt.show()"
   ]
  },
  {
   "cell_type": "code",
   "execution_count": null,
   "id": "0870109a",
   "metadata": {},
   "outputs": [],
   "source": [
    "end = df.columns.get_loc('source_index')\n",
    "counts = df.iloc[:, df.columns.get_loc('id')+1:end].sum()\n",
    "top = counts.sort_values(ascending=False)[:25]\n",
    "fig, ax = plt.subplots(1, 1, figsize=(7,7))\n",
    "fig.tight_layout(w_pad=5)\n",
    "sns.barplot(ax = ax, x=top.values, y=top.index, palette=sns.color_palette('magma', 25), alpha=0.7)\n",
    "ax.set_title(label='Топ навыков', loc='left', size=14, pad=15)\n",
    "ax.set_xlabel('Количество вакансий')\n",
    "ax.set_ylabel('')"
   ]
  },
  {
   "cell_type": "code",
   "execution_count": null,
   "id": "cfb79d2f",
   "metadata": {},
   "outputs": [],
   "source": [
    "exp = df.groupby('experience_id')['salary'].agg(['mean', 'count'])\n",
    "exp_dic = ['Нет опыта','От 1 года до 3 лет', 'От 3 до 6 лет','Более 6 лет']"
   ]
  },
  {
   "cell_type": "code",
   "execution_count": null,
   "id": "78dd53e6",
   "metadata": {},
   "outputs": [],
   "source": [
    "plt.figure(figsize=(8, 8))\n",
    "plt.pie(exp['count'],labels=exp_dic, autopct='%1.1f%%')\n",
    "plt.title('Распределение вакансий в зависимости от опыта работы')\n",
    "plt.show()"
   ]
  },
  {
   "cell_type": "code",
   "execution_count": null,
   "id": "6cdcc4d3",
   "metadata": {},
   "outputs": [],
   "source": [
    "sns.set_palette(\"pastel\")\n",
    "#experience = dg['experience'].map(exp_dic)\n",
    "\n",
    "\n",
    "fig = plt.figure(figsize=(11, 8), dpi=100)\n",
    "plt.title('Распределение зарплаты в зависимости от опыта работы', y=1.02, fontsize=16)\n",
    "sns.regplot(x=df['experience_id'], y=df['salary'], color=\"C0\", x_jitter=.2, scatter_kws={'alpha':0.08});\n",
    "plt.xticks(list(range(4)), labels=exp_dic, rotation='vertical');"
   ]
  },
  {
   "cell_type": "code",
   "execution_count": null,
   "id": "eeb380e9",
   "metadata": {},
   "outputs": [],
   "source": [
    "noexp = df.loc[df['experience_id'] == 3.0]\n",
    "skills = noexp.columns[noexp.columns.get_loc('id')+1:noexp.columns.get_loc('source_index')].tolist()"
   ]
  },
  {
   "cell_type": "code",
   "execution_count": null,
   "id": "ed90f389",
   "metadata": {},
   "outputs": [],
   "source": [
    "\n",
    "X = noexp.iloc[:,noexp.columns.get_loc('id')+1:noexp.columns.get_loc('source_index')]\n",
    "y = noexp['salary']\n",
    "\n",
    "X_train, X_test, y_train, y_test = train_test_split(X, y, test_size=0.2)"
   ]
  },
  {
   "cell_type": "code",
   "execution_count": null,
   "id": "9e4be4a9",
   "metadata": {},
   "outputs": [],
   "source": [
    "skills = df.columns[df.columns.get_loc('id')+1:df.columns.get_loc('source_index')].tolist()\n",
    "\n",
    "X = df.iloc[:,df.columns.get_loc('id')+1:df.columns.get_loc('source_index')]\n",
    "y = df['salary']\n",
    "\n",
    "X_train, X_test, y_train, y_test = train_test_split(X, y, test_size=0.2)"
   ]
  },
  {
   "cell_type": "code",
   "execution_count": null,
   "id": "385333b4",
   "metadata": {},
   "outputs": [],
   "source": [
    "xgb1 = XGBRegressor()\n",
    "parameters = {'nthread':[4], #when use hyperthread, xgboost may become slower\n",
    "              'objective':['reg:linear'],\n",
    "              'learning_rate': [.03, 0.05, .07], #so called `eta` value\n",
    "              'max_depth': [5, 6, 7],\n",
    "              'min_child_weight': [4],\n",
    "              'colsample_bytree': [0.7],\n",
    "              'n_estimators': [500]}\n",
    "\n",
    "xgb_grid = GridSearchCV(xgb1,\n",
    "                        parameters,\n",
    "                        cv = 2,\n",
    "                        n_jobs = 5,\n",
    "                        verbose=1000)\n",
    "\n",
    "xgb_grid.fit(X_train, y_train)\n",
    "\n",
    "print(xgb_grid.best_score_)\n",
    "print(xgb_grid.best_params_)"
   ]
  },
  {
   "cell_type": "code",
   "execution_count": null,
   "id": "831f85a9",
   "metadata": {},
   "outputs": [],
   "source": [
    "from xgboost import XGBRegressor\n",
    "model_xgb = XGBRegressor(\n",
    "    colsample_bytree = 0.7,\n",
    "    min_child_weight = 4,\n",
    "    learning_rate = 0.03,\n",
    "    max_depth = 5,\n",
    "    n_estimators = 500,\n",
    "    n_jobs = -1,\n",
    "    nthread =4\n",
    ")\n",
    "model_xgb.fit(X_train, y_train, eval_set = [(X_train, y_train), (X_test, y_test)], eval_metric = ['rmse', 'mae', 'mape'], verbose = 1000, early_stopping_rounds = 50)"
   ]
  },
  {
   "cell_type": "code",
   "execution_count": null,
   "id": "a638009b",
   "metadata": {
    "scrolled": false
   },
   "outputs": [],
   "source": [
    "model_xgb.feature_importances_"
   ]
  },
  {
   "cell_type": "code",
   "execution_count": null,
   "id": "e735cae3",
   "metadata": {
    "scrolled": true
   },
   "outputs": [],
   "source": [
    "xgb.plot_importance(model_xgb, max_num_features=25)\n",
    "plt.figure(figsize = (16, 12))\n",
    "plt.show()"
   ]
  },
  {
   "cell_type": "code",
   "execution_count": null,
   "id": "4c590662",
   "metadata": {
    "scrolled": true
   },
   "outputs": [],
   "source": [
    "df_xgb = pd.DataFrame([*zip(skills, model_xgb.feature_importances_[:len(skills)]*100)], columns = ['features', 'values'])\n",
    "df_xgb.sort_values(by='values', ascending=False, inplace=True)\n",
    "\n",
    "fig, ax = plt.subplots(1, 1, figsize=(7,8))\n",
    "sns.barplot(data=df_xgb.head(25), x='values', y='features', palette=sns.color_palette('magma', 25), \n",
    "            orient='h', alpha=0.7, ax=ax)\n",
    "ax.set_title(label=f'Доплата за владение технологией без опыта', loc='left', size=14, pad=15)\n",
    "ax.set_xlabel('Доплата тыс. руб.')\n",
    "ax.set_ylabel('')\n",
    "plt.show()"
   ]
  },
  {
   "cell_type": "code",
   "execution_count": null,
   "id": "eedca39e",
   "metadata": {},
   "outputs": [],
   "source": [
    "y_pred = model_xgb.predict(X_test)\n",
    "\n",
    "# Вычисление метрик MAE и RMSE\n",
    "mape = mean_absolute_percentage_error(y_test, y_pred)\n",
    "rmse = mean_squared_error(y_test, y_pred, squared=False)\n",
    "mae = mean_absolute_error(y_test, y_pred)\n",
    "\n",
    "print(\"MAPE:\", mape)\n",
    "print(\"RMSE:\", rmse)\n",
    "print(\"MAE:\", mae)"
   ]
  },
  {
   "cell_type": "code",
   "execution_count": null,
   "id": "9fc05afe",
   "metadata": {},
   "outputs": [],
   "source": [
    "model_xgb.evals_result()"
   ]
  },
  {
   "cell_type": "code",
   "execution_count": null,
   "id": "9a1ac5e6",
   "metadata": {},
   "outputs": [],
   "source": [
    "train_metrics = model_xgb.evals_result()['validation_0']['mae']\n",
    "valid_metrics = model_xgb.evals_result()['validation_1']['mae']\n",
    "\n",
    "# Построение графиков метрик\n",
    "epochs = range(1, len(train_metrics) + 1)\n",
    "plt.plot(epochs, train_metrics, label='train')\n",
    "plt.plot(epochs, valid_metrics, label='test')\n",
    "plt.xlabel('Epochs')\n",
    "plt.ylabel('MAE')\n",
    "plt.title('MAE')\n",
    "plt.legend()"
   ]
  },
  {
   "cell_type": "code",
   "execution_count": null,
   "id": "980a9dbf",
   "metadata": {},
   "outputs": [],
   "source": [
    "train_metrics = model_xgb.evals_result()['validation_0']['mape']\n",
    "valid_metrics = model_xgb.evals_result()['validation_1']['mape']\n",
    "\n",
    "# Построение графиков метрик\n",
    "epochs = range(1, len(train_metrics) + 1)\n",
    "plt.plot(epochs, train_metrics, label='train')\n",
    "plt.plot(epochs, valid_metrics, label='test')\n",
    "plt.xlabel('Epochs')\n",
    "plt.ylabel('MAPE')\n",
    "plt.title('MAPE')\n",
    "plt.legend()"
   ]
  },
  {
   "cell_type": "code",
   "execution_count": null,
   "id": "926b9047",
   "metadata": {},
   "outputs": [],
   "source": [
    "train_metrics = model_xgb.evals_result()['validation_0']['rmse']\n",
    "valid_metrics = model_xgb.evals_result()['validation_1']['rmse']\n",
    "\n",
    "# Построение графиков метрик\n",
    "epochs = range(1, len(train_metrics) + 1)\n",
    "plt.plot(epochs, train_metrics, label='train')\n",
    "plt.plot(epochs, valid_metrics, label='test')\n",
    "plt.xlabel('Epochs')\n",
    "plt.ylabel('RMSE')\n",
    "plt.title('RMSE')\n",
    "plt.legend()\n",
    "plt.show()"
   ]
  },
  {
   "cell_type": "code",
   "execution_count": null,
   "id": "baaceae6",
   "metadata": {
    "scrolled": true
   },
   "outputs": [],
   "source": [
    "print(df_xgb)"
   ]
  },
  {
   "cell_type": "code",
   "execution_count": null,
   "id": "a72a8972",
   "metadata": {},
   "outputs": [],
   "source": [
    "pools = {}\n",
    "\n",
    "pools['train'] = cbt.Pool(\n",
    "    data=X_train,\n",
    "    label=y_train\n",
    ")\n",
    "\n",
    "pools['test'] = cbt.Pool(\n",
    "    data=X_test,\n",
    "    label=y_test\n",
    ")\n",
    "\n",
    "parameters = {'depth'         : [2,5,10],\n",
    "              'learning_rate' : [0.01, 0.05, 0.1],\n",
    "              'iterations'    : [100, 1000, 5000],\n",
    "              'l2_leaf_reg':[3,1,5,10,100]\n",
    "                 }\n",
    "model = CatBoostRegressor(eval_metric = 'MAE')\n",
    "\n",
    "grid = GridSearchCV(estimator=model, param_grid = parameters, cv = 2)\n",
    "    \n",
    "grid.fit(X_train, y_train)\n"
   ]
  },
  {
   "cell_type": "code",
   "execution_count": null,
   "id": "056618d0",
   "metadata": {},
   "outputs": [],
   "source": [
    "best_param = grid.best_params_\n",
    "best_param"
   ]
  },
  {
   "cell_type": "code",
   "execution_count": null,
   "id": "2be54dd8",
   "metadata": {},
   "outputs": [],
   "source": [
    "model = CatBoostRegressor(iterations = 5000, depth = 2, l2_leaf_reg=5, learning_rate = 0.05,eval_metric = 'MAE')\n",
    "model.fit(\n",
    "    pools['train'],\n",
    "    eval_set=pools['test'],\n",
    "    use_best_model=True,\n",
    "    plot=True,\n",
    "    verbose=1000,\n",
    "    early_stopping_rounds=50\n",
    ")\n",
    "model.get_feature_importance(prettified=True)"
   ]
  },
  {
   "cell_type": "code",
   "execution_count": null,
   "id": "75d1e27b",
   "metadata": {},
   "outputs": [],
   "source": [
    "y_pred = model.predict(X_test)\n",
    "\n",
    "# Вычисление метрик MAE и RMSE\n",
    "mape = mean_absolute_percentage_error(y_test, y_pred)\n",
    "rmse = mean_squared_error(y_test, y_pred, squared=False)\n",
    "mae = mean_absolute_error(y_test, y_pred)\n",
    "\n",
    "print(\"MAPE:\", mape)\n",
    "print(\"RMSE:\", rmse)\n",
    "print(\"MAE:\", mae)"
   ]
  },
  {
   "cell_type": "code",
   "execution_count": null,
   "id": "4118c3b5",
   "metadata": {},
   "outputs": [],
   "source": [
    "model_cat = pd.DataFrame([*zip(skills, model.feature_importances_[:len(skills)])], columns = ['features', 'values'])\n",
    "\n",
    "model_cat.sort_values(by='values', ascending=False, inplace=True)\n",
    "\n",
    "fig, ax = plt.subplots(1, 1, figsize=(7,8))\n",
    "sns.barplot(data=model_cat.head(25), x='values', y='features', palette=sns.color_palette('magma', 25), \n",
    "            orient='h', alpha=0.7, ax=ax)\n",
    "ax.set_title(label=f'Доплата за владение технологией без опыта', loc='left', size=14, pad=15)\n",
    "ax.set_xlabel('Доплата тыс. руб.')\n",
    "ax.set_ylabel('')\n",
    "plt.show()"
   ]
  },
  {
   "cell_type": "code",
   "execution_count": null,
   "id": "cc53c949",
   "metadata": {},
   "outputs": [],
   "source": [
    "train_metrics = model.get_evals_result()['learn']['MAE']\n",
    "valid_metrics = model.get_evals_result()['validation']['MAE']\n",
    "\n",
    "# Построение графиков метрик\n",
    "epochs = range(1, len(train_metrics) + 1)\n",
    "plt.plot(epochs, train_metrics, label='train')\n",
    "plt.plot(epochs, valid_metrics, label='test')\n",
    "plt.xlabel('Epochs')\n",
    "plt.ylabel('MAE')\n",
    "plt.title('MAE')\n",
    "plt.legend()"
   ]
  },
  {
   "cell_type": "code",
   "execution_count": null,
   "id": "cac439b3",
   "metadata": {},
   "outputs": [],
   "source": [
    "train_metrics = model.get_evals_result()['learn']['RMSE']\n",
    "valid_metrics = model.get_evals_result()['validation']['RMSE']\n",
    "\n",
    "# Построение графиков метрик\n",
    "epochs = range(1, len(train_metrics) + 1)\n",
    "plt.plot(epochs, train_metrics, label='train')\n",
    "plt.plot(epochs, valid_metrics, label='test')\n",
    "plt.xlabel('Epochs')\n",
    "plt.ylabel('RMSE')\n",
    "plt.title('RMSE')\n",
    "plt.legend()\n",
    "plt.show()"
   ]
  },
  {
   "cell_type": "code",
   "execution_count": null,
   "id": "94179aea",
   "metadata": {},
   "outputs": [],
   "source": [
    "newcolumns = df.columns.str.replace(r',', '', regex=True).to_list()\n",
    "\n",
    "df_new = pd.DataFrame(df.values, columns=newcolumns)\n",
    "df_new.head()"
   ]
  },
  {
   "cell_type": "code",
   "execution_count": null,
   "id": "296eb687",
   "metadata": {},
   "outputs": [],
   "source": [
    "columns_to_convert = df_new.columns[df_new.columns.get_loc('id')+1:df_new.columns.get_loc('source_index')]\n",
    "df_new[columns_to_convert] = df_new[columns_to_convert].astype(int)\n",
    "df_new['salary'] = df_new['salary'].astype(int)\n",
    "print(df_new.dtypes)"
   ]
  },
  {
   "cell_type": "code",
   "execution_count": null,
   "id": "59434a6f",
   "metadata": {},
   "outputs": [],
   "source": [
    "X = df_new.iloc[:,df_new.columns.get_loc('id')+1:df_new.columns.get_loc('source_index')]\n",
    "y = df_new['salary']\n",
    "\n",
    "X_train, X_test, y_train, y_test = train_test_split(X, y, test_size=0.2)\n",
    "train_data = lgb.Dataset(X_train, label=y_train)\n",
    "test_data = lgb.Dataset(X_test, label=y_test)\n",
    "\n",
    "parameters = {\n",
    "    'metric': ['l1','rmse', 'r2'],  \n",
    "     'num_iterations': [  500, 2000,5000  ],\n",
    "     'learning_rate':[  0.05, 0.005 ],\n",
    "    'num_leaves':[ 7, 15, 31  ],\n",
    "    'max_depth' :[ 10,15,25],\n",
    "    'min_data_in_leaf':[15,25 ],\n",
    " }\n",
    "model_lgb = LGBMRegressor()\n",
    "\n",
    "gsearch_lgb = GridSearchCV(model_lgb, param_grid = parameters, verbose=100)\n",
    "gsearch_lgb.fit(X_train,y_train)\n",
    "\n",
    "print(gsearch_lgb.best_params_)"
   ]
  },
  {
   "cell_type": "code",
   "execution_count": null,
   "id": "b84a89b5",
   "metadata": {
    "scrolled": true
   },
   "outputs": [],
   "source": [
    "X = df_new.iloc[:,df_new.columns.get_loc('id')+1:df_new.columns.get_loc('source_index')]\n",
    "y = df_new['salary']\n",
    "\n",
    "X_train, X_test, y_train, y_test = train_test_split(X, y, test_size=0.2)\n",
    "\n",
    "train_data = lgb.Dataset(X_train, label=y_train)\n",
    "test_data = lgb.Dataset(X_test, label=y_test)\n",
    "\n",
    "params = {\n",
    "    'objective': 'regression',\n",
    "    'metric': ['l1','rmse'],\n",
    "    'num_leaves':15,\n",
    "    'max_depth' :15,\n",
    "    'num_iterations': 5000,\n",
    "    'min_data_in_leaf': 15,\n",
    "    'learning_rate':0.05,\n",
    "    'early_stopping': 40\n",
    "}\n",
    "evals={}\n",
    "evals_result = {}\n",
    "model_lgb = LGBMRegressor()\n",
    "# Обучение модели\n",
    "\n",
    "model_lgb = lgb.train(params, train_data, evals_result=evals_result,valid_sets = [test_data, train_data],\n",
    "               valid_names = ['valid', 'train'])\n"
   ]
  },
  {
   "cell_type": "code",
   "execution_count": null,
   "id": "b546bfa2",
   "metadata": {},
   "outputs": [],
   "source": [
    "# Прогнозирование на тестовых данных\n",
    "y_pred = model_lgb.predict(X_test)\n",
    "\n",
    "# Вычисление метрик\n",
    "mae = mean_absolute_error(y_test, y_pred)\n",
    "rmse = mean_squared_error(y_test, y_pred, squared=False)\n",
    "mape = mean_absolute_percentage_error(y_test, y_pred)\n",
    "\n",
    "print(\"MAE:\", mae)\n",
    "print(\"RMSE:\", rmse)\n",
    "print(\"MAPE:\", mape)"
   ]
  },
  {
   "cell_type": "code",
   "execution_count": null,
   "id": "b6c02345",
   "metadata": {},
   "outputs": [],
   "source": [
    "features=model_lgb.feature_importance().tolist()\n",
    "features = [value / 1000 for value in features]\n",
    "\n",
    "df_lgb = pd.DataFrame([*zip(skills, features[:len(skills)])], columns = ['features', 'values'])\n",
    "df_lgb.sort_values(by='values', ascending=False, inplace=True)\n",
    "\n",
    "fig, ax = plt.subplots(1, 1, figsize=(7,8))\n",
    "sns.barplot(data=df_lgb.head(25), x='values', y='features', palette=sns.color_palette('magma', 25), \n",
    "            orient='h', alpha=0.7, ax=ax)\n",
    "ax.set_title(label=f'Доплата за владение технологией', loc='left', size=14, pad=15)\n",
    "ax.set_xlabel('Доплата тыс. руб.')\n",
    "ax.set_ylabel('')\n",
    "plt.show()"
   ]
  },
  {
   "cell_type": "code",
   "execution_count": null,
   "id": "7668e998",
   "metadata": {},
   "outputs": [],
   "source": [
    "train_metrics = evals_result['train']['l1']\n",
    "valid_metrics = evals_result['valid']['l1']\n",
    "\n",
    "epochs = np.arange(len(train_metrics))\n",
    "\n",
    "plt.plot(epochs, train_metrics, label='train')\n",
    "plt.plot(epochs, valid_metrics, label='test')\n",
    "plt.xlabel('Epochs')\n",
    "plt.ylabel('Metric Value')\n",
    "plt.title('MAE')\n",
    "plt.legend()\n",
    "plt.show()"
   ]
  },
  {
   "cell_type": "code",
   "execution_count": null,
   "id": "7fb980ae",
   "metadata": {},
   "outputs": [],
   "source": [
    "train_metrics = evals_result['train']['rmse']\n",
    "valid_metrics = evals_result['valid']['rmse']\n",
    "\n",
    "epochs = np.arange(len(train_metrics))\n",
    "\n",
    "plt.plot(epochs, train_metrics, label='train')\n",
    "plt.plot(epochs, valid_metrics, label='test')\n",
    "plt.xlabel('Epochs')\n",
    "plt.ylabel('Metric Value')\n",
    "plt.title('RMSE')\n",
    "plt.legend()\n",
    "plt.show()"
   ]
  }
 ],
 "metadata": {
  "kernelspec": {
   "display_name": "Python 3 (ipykernel)",
   "language": "python",
   "name": "python3"
  },
  "language_info": {
   "codemirror_mode": {
    "name": "ipython",
    "version": 3
   },
   "file_extension": ".py",
   "mimetype": "text/x-python",
   "name": "python",
   "nbconvert_exporter": "python",
   "pygments_lexer": "ipython3",
   "version": "3.11.1"
  }
 },
 "nbformat": 4,
 "nbformat_minor": 5
}
